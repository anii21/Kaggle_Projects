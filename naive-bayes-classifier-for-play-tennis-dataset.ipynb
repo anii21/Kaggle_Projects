{
 "cells": [
  {
   "cell_type": "code",
   "execution_count": 1,
   "id": "c72252d6",
   "metadata": {
    "_cell_guid": "b1076dfc-b9ad-4769-8c92-a6c4dae69d19",
    "_uuid": "8f2839f25d086af736a60e9eeb907d3b93b6e0e5",
    "execution": {
     "iopub.execute_input": "2024-01-18T18:23:34.195511Z",
     "iopub.status.busy": "2024-01-18T18:23:34.195106Z",
     "iopub.status.idle": "2024-01-18T18:23:34.641552Z",
     "shell.execute_reply": "2024-01-18T18:23:34.639456Z"
    },
    "papermill": {
     "duration": 0.457858,
     "end_time": "2024-01-18T18:23:34.644391",
     "exception": false,
     "start_time": "2024-01-18T18:23:34.186533",
     "status": "completed"
    },
    "tags": []
   },
   "outputs": [
    {
     "name": "stdout",
     "output_type": "stream",
     "text": [
      "/kaggle/input/play-tennis/play_tennis.csv\n"
     ]
    }
   ],
   "source": [
    "# This Python 3 environment comes with many helpful analytics libraries installed\n",
    "# It is defined by the kaggle/python Docker image: https://github.com/kaggle/docker-python\n",
    "# For example, here's several helpful packages to load\n",
    "\n",
    "import numpy as np # linear algebra\n",
    "import pandas as pd # data processing, CSV file I/O (e.g. pd.read_csv)\n",
    "\n",
    "# Input data files are available in the read-only \"../input/\" directory\n",
    "# For example, running this (by clicking run or pressing Shift+Enter) will list all files under the input directory\n",
    "\n",
    "import os\n",
    "for dirname, _, filenames in os.walk('/kaggle/input'):\n",
    "    for filename in filenames:\n",
    "        print(os.path.join(dirname, filename))\n",
    "\n",
    "# You can write up to 20GB to the current directory (/kaggle/working/) that gets preserved as output when you create a version using \"Save & Run All\" \n",
    "# You can also write temporary files to /kaggle/temp/, but they won't be saved outside of the current session"
   ]
  },
  {
   "cell_type": "code",
   "execution_count": 2,
   "id": "92e0f363",
   "metadata": {
    "execution": {
     "iopub.execute_input": "2024-01-18T18:23:34.660244Z",
     "iopub.status.busy": "2024-01-18T18:23:34.659097Z",
     "iopub.status.idle": "2024-01-18T18:23:34.680060Z",
     "shell.execute_reply": "2024-01-18T18:23:34.679065Z"
    },
    "papermill": {
     "duration": 0.031506,
     "end_time": "2024-01-18T18:23:34.682805",
     "exception": false,
     "start_time": "2024-01-18T18:23:34.651299",
     "status": "completed"
    },
    "tags": []
   },
   "outputs": [],
   "source": [
    "df = pd.read_csv(\"/kaggle/input/play-tennis/play_tennis.csv\")"
   ]
  },
  {
   "cell_type": "code",
   "execution_count": 3,
   "id": "67374921",
   "metadata": {
    "execution": {
     "iopub.execute_input": "2024-01-18T18:23:34.698417Z",
     "iopub.status.busy": "2024-01-18T18:23:34.698005Z",
     "iopub.status.idle": "2024-01-18T18:23:34.724754Z",
     "shell.execute_reply": "2024-01-18T18:23:34.723623Z"
    },
    "papermill": {
     "duration": 0.037558,
     "end_time": "2024-01-18T18:23:34.727246",
     "exception": false,
     "start_time": "2024-01-18T18:23:34.689688",
     "status": "completed"
    },
    "tags": []
   },
   "outputs": [
    {
     "data": {
      "text/html": [
       "<div>\n",
       "<style scoped>\n",
       "    .dataframe tbody tr th:only-of-type {\n",
       "        vertical-align: middle;\n",
       "    }\n",
       "\n",
       "    .dataframe tbody tr th {\n",
       "        vertical-align: top;\n",
       "    }\n",
       "\n",
       "    .dataframe thead th {\n",
       "        text-align: right;\n",
       "    }\n",
       "</style>\n",
       "<table border=\"1\" class=\"dataframe\">\n",
       "  <thead>\n",
       "    <tr style=\"text-align: right;\">\n",
       "      <th></th>\n",
       "      <th>day</th>\n",
       "      <th>outlook</th>\n",
       "      <th>temp</th>\n",
       "      <th>humidity</th>\n",
       "      <th>wind</th>\n",
       "      <th>play</th>\n",
       "    </tr>\n",
       "  </thead>\n",
       "  <tbody>\n",
       "    <tr>\n",
       "      <th>0</th>\n",
       "      <td>D1</td>\n",
       "      <td>Sunny</td>\n",
       "      <td>Hot</td>\n",
       "      <td>High</td>\n",
       "      <td>Weak</td>\n",
       "      <td>No</td>\n",
       "    </tr>\n",
       "    <tr>\n",
       "      <th>1</th>\n",
       "      <td>D2</td>\n",
       "      <td>Sunny</td>\n",
       "      <td>Hot</td>\n",
       "      <td>High</td>\n",
       "      <td>Strong</td>\n",
       "      <td>No</td>\n",
       "    </tr>\n",
       "    <tr>\n",
       "      <th>2</th>\n",
       "      <td>D3</td>\n",
       "      <td>Overcast</td>\n",
       "      <td>Hot</td>\n",
       "      <td>High</td>\n",
       "      <td>Weak</td>\n",
       "      <td>Yes</td>\n",
       "    </tr>\n",
       "    <tr>\n",
       "      <th>3</th>\n",
       "      <td>D4</td>\n",
       "      <td>Rain</td>\n",
       "      <td>Mild</td>\n",
       "      <td>High</td>\n",
       "      <td>Weak</td>\n",
       "      <td>Yes</td>\n",
       "    </tr>\n",
       "    <tr>\n",
       "      <th>4</th>\n",
       "      <td>D5</td>\n",
       "      <td>Rain</td>\n",
       "      <td>Cool</td>\n",
       "      <td>Normal</td>\n",
       "      <td>Weak</td>\n",
       "      <td>Yes</td>\n",
       "    </tr>\n",
       "    <tr>\n",
       "      <th>5</th>\n",
       "      <td>D6</td>\n",
       "      <td>Rain</td>\n",
       "      <td>Cool</td>\n",
       "      <td>Normal</td>\n",
       "      <td>Strong</td>\n",
       "      <td>No</td>\n",
       "    </tr>\n",
       "    <tr>\n",
       "      <th>6</th>\n",
       "      <td>D7</td>\n",
       "      <td>Overcast</td>\n",
       "      <td>Cool</td>\n",
       "      <td>Normal</td>\n",
       "      <td>Strong</td>\n",
       "      <td>Yes</td>\n",
       "    </tr>\n",
       "    <tr>\n",
       "      <th>7</th>\n",
       "      <td>D8</td>\n",
       "      <td>Sunny</td>\n",
       "      <td>Mild</td>\n",
       "      <td>High</td>\n",
       "      <td>Weak</td>\n",
       "      <td>No</td>\n",
       "    </tr>\n",
       "    <tr>\n",
       "      <th>8</th>\n",
       "      <td>D9</td>\n",
       "      <td>Sunny</td>\n",
       "      <td>Cool</td>\n",
       "      <td>Normal</td>\n",
       "      <td>Weak</td>\n",
       "      <td>Yes</td>\n",
       "    </tr>\n",
       "    <tr>\n",
       "      <th>9</th>\n",
       "      <td>D10</td>\n",
       "      <td>Rain</td>\n",
       "      <td>Mild</td>\n",
       "      <td>Normal</td>\n",
       "      <td>Weak</td>\n",
       "      <td>Yes</td>\n",
       "    </tr>\n",
       "    <tr>\n",
       "      <th>10</th>\n",
       "      <td>D11</td>\n",
       "      <td>Sunny</td>\n",
       "      <td>Mild</td>\n",
       "      <td>Normal</td>\n",
       "      <td>Strong</td>\n",
       "      <td>Yes</td>\n",
       "    </tr>\n",
       "    <tr>\n",
       "      <th>11</th>\n",
       "      <td>D12</td>\n",
       "      <td>Overcast</td>\n",
       "      <td>Mild</td>\n",
       "      <td>High</td>\n",
       "      <td>Strong</td>\n",
       "      <td>Yes</td>\n",
       "    </tr>\n",
       "    <tr>\n",
       "      <th>12</th>\n",
       "      <td>D13</td>\n",
       "      <td>Overcast</td>\n",
       "      <td>Hot</td>\n",
       "      <td>Normal</td>\n",
       "      <td>Weak</td>\n",
       "      <td>Yes</td>\n",
       "    </tr>\n",
       "    <tr>\n",
       "      <th>13</th>\n",
       "      <td>D14</td>\n",
       "      <td>Rain</td>\n",
       "      <td>Mild</td>\n",
       "      <td>High</td>\n",
       "      <td>Strong</td>\n",
       "      <td>No</td>\n",
       "    </tr>\n",
       "  </tbody>\n",
       "</table>\n",
       "</div>"
      ],
      "text/plain": [
       "    day   outlook  temp humidity    wind play\n",
       "0    D1     Sunny   Hot     High    Weak   No\n",
       "1    D2     Sunny   Hot     High  Strong   No\n",
       "2    D3  Overcast   Hot     High    Weak  Yes\n",
       "3    D4      Rain  Mild     High    Weak  Yes\n",
       "4    D5      Rain  Cool   Normal    Weak  Yes\n",
       "5    D6      Rain  Cool   Normal  Strong   No\n",
       "6    D7  Overcast  Cool   Normal  Strong  Yes\n",
       "7    D8     Sunny  Mild     High    Weak   No\n",
       "8    D9     Sunny  Cool   Normal    Weak  Yes\n",
       "9   D10      Rain  Mild   Normal    Weak  Yes\n",
       "10  D11     Sunny  Mild   Normal  Strong  Yes\n",
       "11  D12  Overcast  Mild     High  Strong  Yes\n",
       "12  D13  Overcast   Hot   Normal    Weak  Yes\n",
       "13  D14      Rain  Mild     High  Strong   No"
      ]
     },
     "execution_count": 3,
     "metadata": {},
     "output_type": "execute_result"
    }
   ],
   "source": [
    "df"
   ]
  },
  {
   "cell_type": "code",
   "execution_count": 4,
   "id": "f1576b37",
   "metadata": {
    "execution": {
     "iopub.execute_input": "2024-01-18T18:23:34.743227Z",
     "iopub.status.busy": "2024-01-18T18:23:34.742858Z",
     "iopub.status.idle": "2024-01-18T18:23:34.758811Z",
     "shell.execute_reply": "2024-01-18T18:23:34.757608Z"
    },
    "papermill": {
     "duration": 0.027158,
     "end_time": "2024-01-18T18:23:34.761431",
     "exception": false,
     "start_time": "2024-01-18T18:23:34.734273",
     "status": "completed"
    },
    "tags": []
   },
   "outputs": [
    {
     "data": {
      "text/plain": [
       "play\n",
       "Yes    9\n",
       "No     5\n",
       "Name: count, dtype: int64"
      ]
     },
     "execution_count": 4,
     "metadata": {},
     "output_type": "execute_result"
    }
   ],
   "source": [
    "df['play'].value_counts()"
   ]
  },
  {
   "cell_type": "markdown",
   "id": "3cefc67f",
   "metadata": {
    "papermill": {
     "duration": 0.007045,
     "end_time": "2024-01-18T18:23:34.775594",
     "exception": false,
     "start_time": "2024-01-18T18:23:34.768549",
     "status": "completed"
    },
    "tags": []
   },
   "source": [
    "caluclating all the probabilities required to get the required result for the given features by the naive bayes algorithm"
   ]
  },
  {
   "cell_type": "code",
   "execution_count": 5,
   "id": "32996d65",
   "metadata": {
    "execution": {
     "iopub.execute_input": "2024-01-18T18:23:34.792006Z",
     "iopub.status.busy": "2024-01-18T18:23:34.791137Z",
     "iopub.status.idle": "2024-01-18T18:23:34.797028Z",
     "shell.execute_reply": "2024-01-18T18:23:34.795940Z"
    },
    "papermill": {
     "duration": 0.017752,
     "end_time": "2024-01-18T18:23:34.800418",
     "exception": false,
     "start_time": "2024-01-18T18:23:34.782666",
     "status": "completed"
    },
    "tags": []
   },
   "outputs": [
    {
     "name": "stdout",
     "output_type": "stream",
     "text": [
      "0.6428571428571429\n",
      "0.35714285714285715\n"
     ]
    }
   ],
   "source": [
    "Pyes = 9/14\n",
    "Pno =5/14\n",
    "print(Pyes)\n",
    "print(Pno)"
   ]
  },
  {
   "cell_type": "code",
   "execution_count": 6,
   "id": "0abede7e",
   "metadata": {
    "execution": {
     "iopub.execute_input": "2024-01-18T18:23:34.816686Z",
     "iopub.status.busy": "2024-01-18T18:23:34.816084Z",
     "iopub.status.idle": "2024-01-18T18:23:34.850226Z",
     "shell.execute_reply": "2024-01-18T18:23:34.849365Z"
    },
    "papermill": {
     "duration": 0.045153,
     "end_time": "2024-01-18T18:23:34.852579",
     "exception": false,
     "start_time": "2024-01-18T18:23:34.807426",
     "status": "completed"
    },
    "tags": []
   },
   "outputs": [
    {
     "data": {
      "text/html": [
       "<div>\n",
       "<style scoped>\n",
       "    .dataframe tbody tr th:only-of-type {\n",
       "        vertical-align: middle;\n",
       "    }\n",
       "\n",
       "    .dataframe tbody tr th {\n",
       "        vertical-align: top;\n",
       "    }\n",
       "\n",
       "    .dataframe thead th {\n",
       "        text-align: right;\n",
       "    }\n",
       "</style>\n",
       "<table border=\"1\" class=\"dataframe\">\n",
       "  <thead>\n",
       "    <tr style=\"text-align: right;\">\n",
       "      <th>play</th>\n",
       "      <th>No</th>\n",
       "      <th>Yes</th>\n",
       "    </tr>\n",
       "    <tr>\n",
       "      <th>outlook</th>\n",
       "      <th></th>\n",
       "      <th></th>\n",
       "    </tr>\n",
       "  </thead>\n",
       "  <tbody>\n",
       "    <tr>\n",
       "      <th>Overcast</th>\n",
       "      <td>0</td>\n",
       "      <td>4</td>\n",
       "    </tr>\n",
       "    <tr>\n",
       "      <th>Rain</th>\n",
       "      <td>2</td>\n",
       "      <td>3</td>\n",
       "    </tr>\n",
       "    <tr>\n",
       "      <th>Sunny</th>\n",
       "      <td>3</td>\n",
       "      <td>2</td>\n",
       "    </tr>\n",
       "  </tbody>\n",
       "</table>\n",
       "</div>"
      ],
      "text/plain": [
       "play      No  Yes\n",
       "outlook          \n",
       "Overcast   0    4\n",
       "Rain       2    3\n",
       "Sunny      3    2"
      ]
     },
     "execution_count": 6,
     "metadata": {},
     "output_type": "execute_result"
    }
   ],
   "source": [
    "pd.crosstab(df['outlook'],df['play'])"
   ]
  },
  {
   "cell_type": "code",
   "execution_count": 7,
   "id": "02251856",
   "metadata": {
    "execution": {
     "iopub.execute_input": "2024-01-18T18:23:34.869395Z",
     "iopub.status.busy": "2024-01-18T18:23:34.868737Z",
     "iopub.status.idle": "2024-01-18T18:23:34.873332Z",
     "shell.execute_reply": "2024-01-18T18:23:34.872570Z"
    },
    "papermill": {
     "duration": 0.01546,
     "end_time": "2024-01-18T18:23:34.875413",
     "exception": false,
     "start_time": "2024-01-18T18:23:34.859953",
     "status": "completed"
    },
    "tags": []
   },
   "outputs": [],
   "source": [
    "Pon =0\n",
    "Prn=2/5\n",
    "Psn=3/5\n",
    "\n",
    "Poy=4/9\n",
    "Pry=3/9\n",
    "Psy=2/9\n"
   ]
  },
  {
   "cell_type": "code",
   "execution_count": 8,
   "id": "b9e6f7a2",
   "metadata": {
    "execution": {
     "iopub.execute_input": "2024-01-18T18:23:34.892499Z",
     "iopub.status.busy": "2024-01-18T18:23:34.891908Z",
     "iopub.status.idle": "2024-01-18T18:23:34.907952Z",
     "shell.execute_reply": "2024-01-18T18:23:34.907090Z"
    },
    "papermill": {
     "duration": 0.02745,
     "end_time": "2024-01-18T18:23:34.910424",
     "exception": false,
     "start_time": "2024-01-18T18:23:34.882974",
     "status": "completed"
    },
    "tags": []
   },
   "outputs": [
    {
     "data": {
      "text/html": [
       "<div>\n",
       "<style scoped>\n",
       "    .dataframe tbody tr th:only-of-type {\n",
       "        vertical-align: middle;\n",
       "    }\n",
       "\n",
       "    .dataframe tbody tr th {\n",
       "        vertical-align: top;\n",
       "    }\n",
       "\n",
       "    .dataframe thead th {\n",
       "        text-align: right;\n",
       "    }\n",
       "</style>\n",
       "<table border=\"1\" class=\"dataframe\">\n",
       "  <thead>\n",
       "    <tr style=\"text-align: right;\">\n",
       "      <th>play</th>\n",
       "      <th>No</th>\n",
       "      <th>Yes</th>\n",
       "    </tr>\n",
       "    <tr>\n",
       "      <th>temp</th>\n",
       "      <th></th>\n",
       "      <th></th>\n",
       "    </tr>\n",
       "  </thead>\n",
       "  <tbody>\n",
       "    <tr>\n",
       "      <th>Cool</th>\n",
       "      <td>1</td>\n",
       "      <td>3</td>\n",
       "    </tr>\n",
       "    <tr>\n",
       "      <th>Hot</th>\n",
       "      <td>2</td>\n",
       "      <td>2</td>\n",
       "    </tr>\n",
       "    <tr>\n",
       "      <th>Mild</th>\n",
       "      <td>2</td>\n",
       "      <td>4</td>\n",
       "    </tr>\n",
       "  </tbody>\n",
       "</table>\n",
       "</div>"
      ],
      "text/plain": [
       "play  No  Yes\n",
       "temp         \n",
       "Cool   1    3\n",
       "Hot    2    2\n",
       "Mild   2    4"
      ]
     },
     "execution_count": 8,
     "metadata": {},
     "output_type": "execute_result"
    }
   ],
   "source": [
    "pd.crosstab(df['temp'],df['play'])"
   ]
  },
  {
   "cell_type": "code",
   "execution_count": 9,
   "id": "43d47753",
   "metadata": {
    "execution": {
     "iopub.execute_input": "2024-01-18T18:23:34.927552Z",
     "iopub.status.busy": "2024-01-18T18:23:34.926679Z",
     "iopub.status.idle": "2024-01-18T18:23:34.932490Z",
     "shell.execute_reply": "2024-01-18T18:23:34.931667Z"
    },
    "papermill": {
     "duration": 0.016798,
     "end_time": "2024-01-18T18:23:34.934699",
     "exception": false,
     "start_time": "2024-01-18T18:23:34.917901",
     "status": "completed"
    },
    "tags": []
   },
   "outputs": [],
   "source": [
    "Pcn=1/5\n",
    "Phn=2/5\n",
    "Pmn=2/5\n",
    "\n",
    "Pcy=3/9\n",
    "Phy=2/9\n",
    "Pmy=4/9"
   ]
  },
  {
   "cell_type": "code",
   "execution_count": 10,
   "id": "93b3ad23",
   "metadata": {
    "execution": {
     "iopub.execute_input": "2024-01-18T18:23:34.951568Z",
     "iopub.status.busy": "2024-01-18T18:23:34.951152Z",
     "iopub.status.idle": "2024-01-18T18:23:34.970139Z",
     "shell.execute_reply": "2024-01-18T18:23:34.969086Z"
    },
    "papermill": {
     "duration": 0.030062,
     "end_time": "2024-01-18T18:23:34.972402",
     "exception": false,
     "start_time": "2024-01-18T18:23:34.942340",
     "status": "completed"
    },
    "tags": []
   },
   "outputs": [
    {
     "data": {
      "text/html": [
       "<div>\n",
       "<style scoped>\n",
       "    .dataframe tbody tr th:only-of-type {\n",
       "        vertical-align: middle;\n",
       "    }\n",
       "\n",
       "    .dataframe tbody tr th {\n",
       "        vertical-align: top;\n",
       "    }\n",
       "\n",
       "    .dataframe thead th {\n",
       "        text-align: right;\n",
       "    }\n",
       "</style>\n",
       "<table border=\"1\" class=\"dataframe\">\n",
       "  <thead>\n",
       "    <tr style=\"text-align: right;\">\n",
       "      <th>play</th>\n",
       "      <th>No</th>\n",
       "      <th>Yes</th>\n",
       "    </tr>\n",
       "    <tr>\n",
       "      <th>humidity</th>\n",
       "      <th></th>\n",
       "      <th></th>\n",
       "    </tr>\n",
       "  </thead>\n",
       "  <tbody>\n",
       "    <tr>\n",
       "      <th>High</th>\n",
       "      <td>4</td>\n",
       "      <td>3</td>\n",
       "    </tr>\n",
       "    <tr>\n",
       "      <th>Normal</th>\n",
       "      <td>1</td>\n",
       "      <td>6</td>\n",
       "    </tr>\n",
       "  </tbody>\n",
       "</table>\n",
       "</div>"
      ],
      "text/plain": [
       "play      No  Yes\n",
       "humidity         \n",
       "High       4    3\n",
       "Normal     1    6"
      ]
     },
     "execution_count": 10,
     "metadata": {},
     "output_type": "execute_result"
    }
   ],
   "source": [
    "pd.crosstab(df['humidity'],df['play'])"
   ]
  },
  {
   "cell_type": "code",
   "execution_count": 11,
   "id": "a13e3517",
   "metadata": {
    "execution": {
     "iopub.execute_input": "2024-01-18T18:23:34.990105Z",
     "iopub.status.busy": "2024-01-18T18:23:34.989654Z",
     "iopub.status.idle": "2024-01-18T18:23:34.994749Z",
     "shell.execute_reply": "2024-01-18T18:23:34.993572Z"
    },
    "papermill": {
     "duration": 0.016839,
     "end_time": "2024-01-18T18:23:34.996994",
     "exception": false,
     "start_time": "2024-01-18T18:23:34.980155",
     "status": "completed"
    },
    "tags": []
   },
   "outputs": [],
   "source": [
    "Pnh=4/5\n",
    "Pnn=1/5\n",
    "\n",
    "Pyh=3/9\n",
    "Pyn=6/9"
   ]
  },
  {
   "cell_type": "code",
   "execution_count": 12,
   "id": "0fbc6bf4",
   "metadata": {
    "execution": {
     "iopub.execute_input": "2024-01-18T18:23:35.014950Z",
     "iopub.status.busy": "2024-01-18T18:23:35.014160Z",
     "iopub.status.idle": "2024-01-18T18:23:35.031973Z",
     "shell.execute_reply": "2024-01-18T18:23:35.031000Z"
    },
    "papermill": {
     "duration": 0.02942,
     "end_time": "2024-01-18T18:23:35.034189",
     "exception": false,
     "start_time": "2024-01-18T18:23:35.004769",
     "status": "completed"
    },
    "tags": []
   },
   "outputs": [
    {
     "data": {
      "text/html": [
       "<div>\n",
       "<style scoped>\n",
       "    .dataframe tbody tr th:only-of-type {\n",
       "        vertical-align: middle;\n",
       "    }\n",
       "\n",
       "    .dataframe tbody tr th {\n",
       "        vertical-align: top;\n",
       "    }\n",
       "\n",
       "    .dataframe thead th {\n",
       "        text-align: right;\n",
       "    }\n",
       "</style>\n",
       "<table border=\"1\" class=\"dataframe\">\n",
       "  <thead>\n",
       "    <tr style=\"text-align: right;\">\n",
       "      <th>play</th>\n",
       "      <th>No</th>\n",
       "      <th>Yes</th>\n",
       "    </tr>\n",
       "    <tr>\n",
       "      <th>wind</th>\n",
       "      <th></th>\n",
       "      <th></th>\n",
       "    </tr>\n",
       "  </thead>\n",
       "  <tbody>\n",
       "    <tr>\n",
       "      <th>Strong</th>\n",
       "      <td>3</td>\n",
       "      <td>3</td>\n",
       "    </tr>\n",
       "    <tr>\n",
       "      <th>Weak</th>\n",
       "      <td>2</td>\n",
       "      <td>6</td>\n",
       "    </tr>\n",
       "  </tbody>\n",
       "</table>\n",
       "</div>"
      ],
      "text/plain": [
       "play    No  Yes\n",
       "wind           \n",
       "Strong   3    3\n",
       "Weak     2    6"
      ]
     },
     "execution_count": 12,
     "metadata": {},
     "output_type": "execute_result"
    }
   ],
   "source": [
    "pd.crosstab(df['wind'],df['play'])"
   ]
  },
  {
   "cell_type": "code",
   "execution_count": 13,
   "id": "7f79351a",
   "metadata": {
    "execution": {
     "iopub.execute_input": "2024-01-18T18:23:35.052158Z",
     "iopub.status.busy": "2024-01-18T18:23:35.051532Z",
     "iopub.status.idle": "2024-01-18T18:23:35.057359Z",
     "shell.execute_reply": "2024-01-18T18:23:35.056053Z"
    },
    "papermill": {
     "duration": 0.017376,
     "end_time": "2024-01-18T18:23:35.059531",
     "exception": false,
     "start_time": "2024-01-18T18:23:35.042155",
     "status": "completed"
    },
    "tags": []
   },
   "outputs": [],
   "source": [
    "Pns=3/5\n",
    "Pnw=2/5\n",
    "Pys=3/9\n",
    "Pyw=6/9"
   ]
  },
  {
   "cell_type": "code",
   "execution_count": 14,
   "id": "d4586806",
   "metadata": {
    "execution": {
     "iopub.execute_input": "2024-01-18T18:23:35.078023Z",
     "iopub.status.busy": "2024-01-18T18:23:35.077239Z",
     "iopub.status.idle": "2024-01-18T18:23:35.081669Z",
     "shell.execute_reply": "2024-01-18T18:23:35.080723Z"
    },
    "papermill": {
     "duration": 0.016506,
     "end_time": "2024-01-18T18:23:35.084103",
     "exception": false,
     "start_time": "2024-01-18T18:23:35.067597",
     "status": "completed"
    },
    "tags": []
   },
   "outputs": [],
   "source": [
    "# Problem:\n",
    "\n",
    "# outlook=Sunny ,Temp=Hot ,Humididty=High ,Wind=Weak\n",
    "# play or not??"
   ]
  },
  {
   "cell_type": "code",
   "execution_count": 15,
   "id": "672ff23f",
   "metadata": {
    "execution": {
     "iopub.execute_input": "2024-01-18T18:23:35.102060Z",
     "iopub.status.busy": "2024-01-18T18:23:35.101384Z",
     "iopub.status.idle": "2024-01-18T18:23:35.107049Z",
     "shell.execute_reply": "2024-01-18T18:23:35.105772Z"
    },
    "papermill": {
     "duration": 0.017458,
     "end_time": "2024-01-18T18:23:35.109625",
     "exception": false,
     "start_time": "2024-01-18T18:23:35.092167",
     "status": "completed"
    },
    "tags": []
   },
   "outputs": [],
   "source": [
    "# Solution \n",
    "\n",
    "# p(Yes | Suuny,Hot,High, Weak) = p(Sunny|Yes) * p(Hot|Yes) * p(High|Yes) * p(Weak|Yes) * p(Yes)\n",
    "\n",
    "# p(No | Suuny,Hot,High, Weak) = p(Sunny|No) * p(Hot|No) * p(High|No) * p(Weak|No) * p(No)\n",
    "\n",
    "# compare and decide using the maximum a posteriori rule above "
   ]
  },
  {
   "cell_type": "code",
   "execution_count": 16,
   "id": "4c1a72d1",
   "metadata": {
    "execution": {
     "iopub.execute_input": "2024-01-18T18:23:35.127887Z",
     "iopub.status.busy": "2024-01-18T18:23:35.127065Z",
     "iopub.status.idle": "2024-01-18T18:23:35.134169Z",
     "shell.execute_reply": "2024-01-18T18:23:35.133018Z"
    },
    "papermill": {
     "duration": 0.018825,
     "end_time": "2024-01-18T18:23:35.136438",
     "exception": false,
     "start_time": "2024-01-18T18:23:35.117613",
     "status": "completed"
    },
    "tags": []
   },
   "outputs": [
    {
     "name": "stdout",
     "output_type": "stream",
     "text": [
      "0.007054673721340387\n",
      "0.02742857142857143\n",
      "ans is 0.02742857142857143\n"
     ]
    }
   ],
   "source": [
    "PY = Psy*Phy*Pyh*Pyw*Pyes\n",
    "PN = Psn*Phn*Pnh*Pnw*Pno\n",
    "print(PY)\n",
    "print(PN)\n",
    "print('ans is',max(PN,PY))"
   ]
  },
  {
   "cell_type": "markdown",
   "id": "b59ed21b",
   "metadata": {
    "papermill": {
     "duration": 0.007968,
     "end_time": "2024-01-18T18:23:35.152412",
     "exception": false,
     "start_time": "2024-01-18T18:23:35.144444",
     "status": "completed"
    },
    "tags": []
   },
   "source": [
    "so based on posteriori rule the ans will be NO. as PN>PY"
   ]
  }
 ],
 "metadata": {
  "kaggle": {
   "accelerator": "none",
   "dataSources": [
    {
     "datasetId": 89775,
     "sourceId": 207354,
     "sourceType": "datasetVersion"
    }
   ],
   "dockerImageVersionId": 30635,
   "isGpuEnabled": false,
   "isInternetEnabled": true,
   "language": "python",
   "sourceType": "notebook"
  },
  "kernelspec": {
   "display_name": "Python 3",
   "language": "python",
   "name": "python3"
  },
  "language_info": {
   "codemirror_mode": {
    "name": "ipython",
    "version": 3
   },
   "file_extension": ".py",
   "mimetype": "text/x-python",
   "name": "python",
   "nbconvert_exporter": "python",
   "pygments_lexer": "ipython3",
   "version": "3.10.12"
  },
  "papermill": {
   "default_parameters": {},
   "duration": 4.988452,
   "end_time": "2024-01-18T18:23:35.681995",
   "environment_variables": {},
   "exception": null,
   "input_path": "__notebook__.ipynb",
   "output_path": "__notebook__.ipynb",
   "parameters": {},
   "start_time": "2024-01-18T18:23:30.693543",
   "version": "2.4.0"
  }
 },
 "nbformat": 4,
 "nbformat_minor": 5
}
